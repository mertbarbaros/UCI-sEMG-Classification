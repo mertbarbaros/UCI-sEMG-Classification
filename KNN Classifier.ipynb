{
 "cells": [
  {
   "cell_type": "markdown",
   "id": "2048e551",
   "metadata": {},
   "source": [
    "# UCI EMG Dataset Classification Project\n",
    "\n",
    "In this project, [I will work on UCI EMG data for gestures data set.](https://archive.ics.uci.edu/ml/datasets/EMG+data+for+gestures). I will start with data processing then apply cross-validation for classifaction purposes."
   ]
  },
  {
   "cell_type": "markdown",
   "id": "15602dd2",
   "metadata": {},
   "source": [
    "## EDA"
   ]
  },
  {
   "cell_type": "markdown",
   "id": "f9f1fc7c",
   "metadata": {
    "slideshow": {
     "slide_type": "-"
    }
   },
   "source": [
    "First, we will import required libraries for pre-processing. Please note the class variables in the dataset \n",
    "\n",
    "\n",
    "- 1)Time - time in ms;\n",
    "- 2-9) Channel - eightEMG channels of MYO Thalmic bracelet;\n",
    "- 10) Class  –thelabel of gestures: \n",
    "  - 0 - unmarked data,\n",
    "  - 1 - hand at rest, \n",
    "  - 2 - hand clenched in a fist, \n",
    "  - 3 - wrist flexion,\n",
    "  - 4 – wrist extension,\n",
    "  - 5 – radial deviations,\n",
    "  - 6 - ulnar deviations,\n",
    "  - 7 - extended palm (the gesture was not performed by all subjects)."
   ]
  },
  {
   "cell_type": "code",
   "execution_count": 1,
   "id": "64bb7f15",
   "metadata": {},
   "outputs": [],
   "source": [
    "import numpy as np\n",
    "import pandas as pd \n",
    "import matplotlib.pyplot as plt\n",
    "import seaborn as sns\n",
    "import os\n",
    "import glob\n",
    "%matplotlib inline "
   ]
  },
  {
   "cell_type": "markdown",
   "id": "f0e61fa9",
   "metadata": {},
   "source": [
    "Our dataset in the code directory with \"Data\" filename. We will import 72 txt files and merged those files in a single dataframe."
   ]
  },
  {
   "cell_type": "code",
   "execution_count": 2,
   "id": "a585913b",
   "metadata": {},
   "outputs": [
    {
     "data": {
      "text/plain": [
       "72"
      ]
     },
     "execution_count": 2,
     "metadata": {},
     "output_type": "execute_result"
    }
   ],
   "source": [
    "#importing data txt files\n",
    "files = glob.glob('Data/*.txt')\n",
    "#Let's check the number of txt files\n",
    "len(files)"
   ]
  },
  {
   "cell_type": "markdown",
   "id": "ac6f553f",
   "metadata": {},
   "source": [
    "In next two code snippet, first we will concat all files in a single dataframe called **df** . Then we will describe the dataset."
   ]
  },
  {
   "cell_type": "code",
   "execution_count": 3,
   "id": "81356c21",
   "metadata": {},
   "outputs": [],
   "source": [
    "df = pd.concat([pd.read_csv(f, sep = \"\\t\") for f in files], ignore_index = True)"
   ]
  },
  {
   "cell_type": "code",
   "execution_count": 4,
   "id": "5fda628c",
   "metadata": {},
   "outputs": [
    {
     "data": {
      "text/plain": [
       "4237908"
      ]
     },
     "execution_count": 4,
     "metadata": {},
     "output_type": "execute_result"
    }
   ],
   "source": [
    "len(df)"
   ]
  },
  {
   "cell_type": "code",
   "execution_count": 5,
   "id": "fc747273",
   "metadata": {},
   "outputs": [
    {
     "data": {
      "text/html": [
       "<div>\n",
       "<style scoped>\n",
       "    .dataframe tbody tr th:only-of-type {\n",
       "        vertical-align: middle;\n",
       "    }\n",
       "\n",
       "    .dataframe tbody tr th {\n",
       "        vertical-align: top;\n",
       "    }\n",
       "\n",
       "    .dataframe thead th {\n",
       "        text-align: right;\n",
       "    }\n",
       "</style>\n",
       "<table border=\"1\" class=\"dataframe\">\n",
       "  <thead>\n",
       "    <tr style=\"text-align: right;\">\n",
       "      <th></th>\n",
       "      <th>time</th>\n",
       "      <th>channel1</th>\n",
       "      <th>channel2</th>\n",
       "      <th>channel3</th>\n",
       "      <th>channel4</th>\n",
       "      <th>channel5</th>\n",
       "      <th>channel6</th>\n",
       "      <th>channel7</th>\n",
       "      <th>channel8</th>\n",
       "      <th>class</th>\n",
       "    </tr>\n",
       "  </thead>\n",
       "  <tbody>\n",
       "    <tr>\n",
       "      <th>0</th>\n",
       "      <td>1</td>\n",
       "      <td>-0.00003</td>\n",
       "      <td>-0.00001</td>\n",
       "      <td>0.00004</td>\n",
       "      <td>-0.00003</td>\n",
       "      <td>0.00000</td>\n",
       "      <td>-0.00001</td>\n",
       "      <td>-0.00003</td>\n",
       "      <td>-0.00002</td>\n",
       "      <td>0.0</td>\n",
       "    </tr>\n",
       "    <tr>\n",
       "      <th>1</th>\n",
       "      <td>5</td>\n",
       "      <td>-0.00003</td>\n",
       "      <td>-0.00001</td>\n",
       "      <td>0.00004</td>\n",
       "      <td>-0.00003</td>\n",
       "      <td>0.00000</td>\n",
       "      <td>-0.00001</td>\n",
       "      <td>-0.00003</td>\n",
       "      <td>-0.00002</td>\n",
       "      <td>0.0</td>\n",
       "    </tr>\n",
       "    <tr>\n",
       "      <th>2</th>\n",
       "      <td>6</td>\n",
       "      <td>-0.00002</td>\n",
       "      <td>-0.00003</td>\n",
       "      <td>-0.00021</td>\n",
       "      <td>-0.00005</td>\n",
       "      <td>-0.00001</td>\n",
       "      <td>0.00000</td>\n",
       "      <td>-0.00002</td>\n",
       "      <td>0.00001</td>\n",
       "      <td>0.0</td>\n",
       "    </tr>\n",
       "    <tr>\n",
       "      <th>3</th>\n",
       "      <td>7</td>\n",
       "      <td>-0.00002</td>\n",
       "      <td>-0.00003</td>\n",
       "      <td>-0.00021</td>\n",
       "      <td>-0.00005</td>\n",
       "      <td>-0.00001</td>\n",
       "      <td>0.00000</td>\n",
       "      <td>-0.00002</td>\n",
       "      <td>0.00001</td>\n",
       "      <td>0.0</td>\n",
       "    </tr>\n",
       "    <tr>\n",
       "      <th>4</th>\n",
       "      <td>8</td>\n",
       "      <td>-0.00002</td>\n",
       "      <td>-0.00003</td>\n",
       "      <td>-0.00021</td>\n",
       "      <td>-0.00005</td>\n",
       "      <td>-0.00001</td>\n",
       "      <td>0.00000</td>\n",
       "      <td>-0.00002</td>\n",
       "      <td>0.00001</td>\n",
       "      <td>0.0</td>\n",
       "    </tr>\n",
       "  </tbody>\n",
       "</table>\n",
       "</div>"
      ],
      "text/plain": [
       "   time  channel1  channel2  channel3  channel4  channel5  channel6  channel7  \\\n",
       "0     1  -0.00003  -0.00001   0.00004  -0.00003   0.00000  -0.00001  -0.00003   \n",
       "1     5  -0.00003  -0.00001   0.00004  -0.00003   0.00000  -0.00001  -0.00003   \n",
       "2     6  -0.00002  -0.00003  -0.00021  -0.00005  -0.00001   0.00000  -0.00002   \n",
       "3     7  -0.00002  -0.00003  -0.00021  -0.00005  -0.00001   0.00000  -0.00002   \n",
       "4     8  -0.00002  -0.00003  -0.00021  -0.00005  -0.00001   0.00000  -0.00002   \n",
       "\n",
       "   channel8  class  \n",
       "0  -0.00002    0.0  \n",
       "1  -0.00002    0.0  \n",
       "2   0.00001    0.0  \n",
       "3   0.00001    0.0  \n",
       "4   0.00001    0.0  "
      ]
     },
     "execution_count": 5,
     "metadata": {},
     "output_type": "execute_result"
    }
   ],
   "source": [
    "df.head()"
   ]
  },
  {
   "cell_type": "code",
   "execution_count": 6,
   "id": "e5406da6",
   "metadata": {},
   "outputs": [
    {
     "data": {
      "text/html": [
       "<div>\n",
       "<style scoped>\n",
       "    .dataframe tbody tr th:only-of-type {\n",
       "        vertical-align: middle;\n",
       "    }\n",
       "\n",
       "    .dataframe tbody tr th {\n",
       "        vertical-align: top;\n",
       "    }\n",
       "\n",
       "    .dataframe thead th {\n",
       "        text-align: right;\n",
       "    }\n",
       "</style>\n",
       "<table border=\"1\" class=\"dataframe\">\n",
       "  <thead>\n",
       "    <tr style=\"text-align: right;\">\n",
       "      <th></th>\n",
       "      <th>time</th>\n",
       "      <th>channel1</th>\n",
       "      <th>channel2</th>\n",
       "      <th>channel3</th>\n",
       "      <th>channel4</th>\n",
       "      <th>channel5</th>\n",
       "      <th>channel6</th>\n",
       "      <th>channel7</th>\n",
       "      <th>channel8</th>\n",
       "      <th>class</th>\n",
       "    </tr>\n",
       "  </thead>\n",
       "  <tbody>\n",
       "    <tr>\n",
       "      <th>count</th>\n",
       "      <td>4.237908e+06</td>\n",
       "      <td>4.237908e+06</td>\n",
       "      <td>4.237908e+06</td>\n",
       "      <td>4.237908e+06</td>\n",
       "      <td>4.237908e+06</td>\n",
       "      <td>4.237908e+06</td>\n",
       "      <td>4.237908e+06</td>\n",
       "      <td>4.237908e+06</td>\n",
       "      <td>4.237908e+06</td>\n",
       "      <td>4.237907e+06</td>\n",
       "    </tr>\n",
       "    <tr>\n",
       "      <th>mean</th>\n",
       "      <td>3.113689e+04</td>\n",
       "      <td>-7.911481e-06</td>\n",
       "      <td>-9.416077e-06</td>\n",
       "      <td>-9.548735e-06</td>\n",
       "      <td>-9.637838e-06</td>\n",
       "      <td>-1.599724e-05</td>\n",
       "      <td>-1.085528e-05</td>\n",
       "      <td>-9.364637e-06</td>\n",
       "      <td>-9.696860e-06</td>\n",
       "      <td>1.265671e+00</td>\n",
       "    </tr>\n",
       "    <tr>\n",
       "      <th>std</th>\n",
       "      <td>1.868079e+04</td>\n",
       "      <td>1.631110e-04</td>\n",
       "      <td>1.192228e-04</td>\n",
       "      <td>1.241846e-04</td>\n",
       "      <td>2.257728e-04</td>\n",
       "      <td>2.724188e-04</td>\n",
       "      <td>2.151405e-04</td>\n",
       "      <td>1.527311e-04</td>\n",
       "      <td>1.720933e-04</td>\n",
       "      <td>1.989693e+00</td>\n",
       "    </tr>\n",
       "    <tr>\n",
       "      <th>min</th>\n",
       "      <td>0.000000e+00</td>\n",
       "      <td>-1.280000e-03</td>\n",
       "      <td>-1.280000e-03</td>\n",
       "      <td>-1.280000e-03</td>\n",
       "      <td>-1.280000e-03</td>\n",
       "      <td>-1.280000e-03</td>\n",
       "      <td>-1.280000e-03</td>\n",
       "      <td>-1.280000e-03</td>\n",
       "      <td>-1.280000e-03</td>\n",
       "      <td>0.000000e+00</td>\n",
       "    </tr>\n",
       "    <tr>\n",
       "      <th>25%</th>\n",
       "      <td>1.529000e+04</td>\n",
       "      <td>-3.000000e-05</td>\n",
       "      <td>-4.000000e-05</td>\n",
       "      <td>-4.000000e-05</td>\n",
       "      <td>-6.000000e-05</td>\n",
       "      <td>-8.000000e-05</td>\n",
       "      <td>-6.000000e-05</td>\n",
       "      <td>-4.000000e-05</td>\n",
       "      <td>-3.000000e-05</td>\n",
       "      <td>0.000000e+00</td>\n",
       "    </tr>\n",
       "    <tr>\n",
       "      <th>50%</th>\n",
       "      <td>3.054600e+04</td>\n",
       "      <td>-1.000000e-05</td>\n",
       "      <td>-1.000000e-05</td>\n",
       "      <td>-1.000000e-05</td>\n",
       "      <td>-1.000000e-05</td>\n",
       "      <td>-1.000000e-05</td>\n",
       "      <td>-1.000000e-05</td>\n",
       "      <td>-1.000000e-05</td>\n",
       "      <td>-1.000000e-05</td>\n",
       "      <td>0.000000e+00</td>\n",
       "    </tr>\n",
       "    <tr>\n",
       "      <th>75%</th>\n",
       "      <td>4.580400e+04</td>\n",
       "      <td>2.000000e-05</td>\n",
       "      <td>2.000000e-05</td>\n",
       "      <td>3.000000e-05</td>\n",
       "      <td>4.000000e-05</td>\n",
       "      <td>5.000000e-05</td>\n",
       "      <td>3.000000e-05</td>\n",
       "      <td>2.000000e-05</td>\n",
       "      <td>1.000000e-05</td>\n",
       "      <td>2.000000e+00</td>\n",
       "    </tr>\n",
       "    <tr>\n",
       "      <th>max</th>\n",
       "      <td>9.714400e+04</td>\n",
       "      <td>1.270000e-03</td>\n",
       "      <td>1.270000e-03</td>\n",
       "      <td>1.270000e-03</td>\n",
       "      <td>1.270000e-03</td>\n",
       "      <td>1.270000e-03</td>\n",
       "      <td>1.270000e-03</td>\n",
       "      <td>1.270000e-03</td>\n",
       "      <td>1.270000e-03</td>\n",
       "      <td>7.000000e+00</td>\n",
       "    </tr>\n",
       "  </tbody>\n",
       "</table>\n",
       "</div>"
      ],
      "text/plain": [
       "               time      channel1      channel2      channel3      channel4  \\\n",
       "count  4.237908e+06  4.237908e+06  4.237908e+06  4.237908e+06  4.237908e+06   \n",
       "mean   3.113689e+04 -7.911481e-06 -9.416077e-06 -9.548735e-06 -9.637838e-06   \n",
       "std    1.868079e+04  1.631110e-04  1.192228e-04  1.241846e-04  2.257728e-04   \n",
       "min    0.000000e+00 -1.280000e-03 -1.280000e-03 -1.280000e-03 -1.280000e-03   \n",
       "25%    1.529000e+04 -3.000000e-05 -4.000000e-05 -4.000000e-05 -6.000000e-05   \n",
       "50%    3.054600e+04 -1.000000e-05 -1.000000e-05 -1.000000e-05 -1.000000e-05   \n",
       "75%    4.580400e+04  2.000000e-05  2.000000e-05  3.000000e-05  4.000000e-05   \n",
       "max    9.714400e+04  1.270000e-03  1.270000e-03  1.270000e-03  1.270000e-03   \n",
       "\n",
       "           channel5      channel6      channel7      channel8         class  \n",
       "count  4.237908e+06  4.237908e+06  4.237908e+06  4.237908e+06  4.237907e+06  \n",
       "mean  -1.599724e-05 -1.085528e-05 -9.364637e-06 -9.696860e-06  1.265671e+00  \n",
       "std    2.724188e-04  2.151405e-04  1.527311e-04  1.720933e-04  1.989693e+00  \n",
       "min   -1.280000e-03 -1.280000e-03 -1.280000e-03 -1.280000e-03  0.000000e+00  \n",
       "25%   -8.000000e-05 -6.000000e-05 -4.000000e-05 -3.000000e-05  0.000000e+00  \n",
       "50%   -1.000000e-05 -1.000000e-05 -1.000000e-05 -1.000000e-05  0.000000e+00  \n",
       "75%    5.000000e-05  3.000000e-05  2.000000e-05  1.000000e-05  2.000000e+00  \n",
       "max    1.270000e-03  1.270000e-03  1.270000e-03  1.270000e-03  7.000000e+00  "
      ]
     },
     "execution_count": 6,
     "metadata": {},
     "output_type": "execute_result"
    }
   ],
   "source": [
    "df.describe()"
   ]
  },
  {
   "cell_type": "markdown",
   "id": "ad24302d",
   "metadata": {},
   "source": [
    "Null values check:"
   ]
  },
  {
   "cell_type": "code",
   "execution_count": 7,
   "id": "8fd339dc",
   "metadata": {},
   "outputs": [
    {
     "data": {
      "text/plain": [
       "time        0\n",
       "channel1    0\n",
       "channel2    0\n",
       "channel3    0\n",
       "channel4    0\n",
       "channel5    0\n",
       "channel6    0\n",
       "channel7    0\n",
       "channel8    0\n",
       "class       1\n",
       "dtype: int64"
      ]
     },
     "execution_count": 7,
     "metadata": {},
     "output_type": "execute_result"
    }
   ],
   "source": [
    "df.isna().sum()"
   ]
  },
  {
   "cell_type": "markdown",
   "id": "d54a2001",
   "metadata": {},
   "source": [
    "let's remove the null row from the dataset and check types"
   ]
  },
  {
   "cell_type": "code",
   "execution_count": 8,
   "id": "1a67682c",
   "metadata": {},
   "outputs": [],
   "source": [
    "df.dropna(inplace= True)"
   ]
  },
  {
   "cell_type": "code",
   "execution_count": 9,
   "id": "258f2dee",
   "metadata": {},
   "outputs": [
    {
     "data": {
      "text/plain": [
       "time          int64\n",
       "channel1    float64\n",
       "channel2    float64\n",
       "channel3    float64\n",
       "channel4    float64\n",
       "channel5    float64\n",
       "channel6    float64\n",
       "channel7    float64\n",
       "channel8    float64\n",
       "class       float64\n",
       "dtype: object"
      ]
     },
     "execution_count": 9,
     "metadata": {},
     "output_type": "execute_result"
    }
   ],
   "source": [
    "df.dtypes"
   ]
  },
  {
   "cell_type": "code",
   "execution_count": 10,
   "id": "4463de9a",
   "metadata": {},
   "outputs": [
    {
     "data": {
      "text/plain": [
       "42379070"
      ]
     },
     "execution_count": 10,
     "metadata": {},
     "output_type": "execute_result"
    }
   ],
   "source": [
    "df.size"
   ]
  },
  {
   "cell_type": "markdown",
   "id": "3f37f8c3",
   "metadata": {},
   "source": [
    "Correlation coefficients quantify the association between variables or features of a dataset."
   ]
  },
  {
   "cell_type": "code",
   "execution_count": 12,
   "id": "1255e75b",
   "metadata": {},
   "outputs": [
    {
     "name": "stderr",
     "output_type": "stream",
     "text": [
      "<ipython-input-12-883e47a13233>:3: DeprecationWarning: `np.bool` is a deprecated alias for the builtin `bool`. To silence this warning, use `bool` by itself. Doing this will not modify any behavior and is safe. If you specifically wanted the numpy scalar type, use `np.bool_` here.\n",
      "Deprecated in NumPy 1.20; for more details and guidance: https://numpy.org/devdocs/release/1.20.0-notes.html#deprecations\n",
      "  mask = np.triu(np.ones_like(df.corr(), dtype=np.bool))\n"
     ]
    },
    {
     "data": {
      "image/png": "[encoded data removed]",
      "text/plain": [
       "<Figure size 1152x432 with 2 Axes>"
      ]
     },
     "metadata": {
      "needs_background": "light"
     },
     "output_type": "display_data"
    }
   ],
   "source": [
    "plt.figure(figsize=(16, 6))\n",
    "# define the mask to set the values in the upper triangle to True\n",
    "mask = np.triu(np.ones_like(df.corr(), dtype=np.bool))\n",
    "heatmap = sns.heatmap(df.corr(), mask=mask, vmin=-1, vmax=1, annot=True, cmap='BrBG')\n",
    "heatmap.set_title('Triangle Correlation Heatmap', fontdict={'fontsize':18}, pad=16);"
   ]
  },
  {
   "cell_type": "markdown",
   "id": "5ffe3161",
   "metadata": {},
   "source": [
    "Let's see the value counts of each class variable. Class 7 has low input according to other classes, it is wise to remove class 7 from the dataset."
   ]
  },
  {
   "cell_type": "code",
   "execution_count": 13,
   "id": "d5c56809",
   "metadata": {},
   "outputs": [
    {
     "name": "stdout",
     "output_type": "stream",
     "text": [
      "Value Count :\n",
      " 0.0    2725157\n",
      "6.0     253009\n",
      "5.0     251733\n",
      "4.0     251570\n",
      "1.0     250055\n",
      "3.0     249494\n",
      "2.0     243193\n",
      "7.0      13696\n",
      "Name: class, dtype: int64\n"
     ]
    }
   ],
   "source": [
    "print(\"Value Count :\\n\", df[\"class\"].value_counts())"
   ]
  },
  {
   "cell_type": "code",
   "execution_count": 14,
   "id": "c644e287",
   "metadata": {},
   "outputs": [],
   "source": [
    "index_numbers_2=df[df[\"class\"]==7].index\n",
    "df.drop(index_numbers_2,inplace=True)"
   ]
  },
  {
   "cell_type": "markdown",
   "id": "b7e2cb38",
   "metadata": {},
   "source": [
    "Also, time is unnecessary for classification purpose in our dataset."
   ]
  },
  {
   "cell_type": "code",
   "execution_count": 15,
   "id": "44e3d856",
   "metadata": {},
   "outputs": [],
   "source": [
    "df.drop('time',axis=1, inplace=True)"
   ]
  },
  {
   "cell_type": "code",
   "execution_count": 16,
   "id": "29e40c0f",
   "metadata": {},
   "outputs": [
    {
     "data": {
      "text/html": [
       "<div>\n",
       "<style scoped>\n",
       "    .dataframe tbody tr th:only-of-type {\n",
       "        vertical-align: middle;\n",
       "    }\n",
       "\n",
       "    .dataframe tbody tr th {\n",
       "        vertical-align: top;\n",
       "    }\n",
       "\n",
       "    .dataframe thead th {\n",
       "        text-align: right;\n",
       "    }\n",
       "</style>\n",
       "<table border=\"1\" class=\"dataframe\">\n",
       "  <thead>\n",
       "    <tr style=\"text-align: right;\">\n",
       "      <th></th>\n",
       "      <th>channel1</th>\n",
       "      <th>channel2</th>\n",
       "      <th>channel3</th>\n",
       "      <th>channel4</th>\n",
       "      <th>channel5</th>\n",
       "      <th>channel6</th>\n",
       "      <th>channel7</th>\n",
       "      <th>channel8</th>\n",
       "      <th>class</th>\n",
       "    </tr>\n",
       "  </thead>\n",
       "  <tbody>\n",
       "    <tr>\n",
       "      <th>0</th>\n",
       "      <td>-0.00003</td>\n",
       "      <td>-0.00001</td>\n",
       "      <td>0.00004</td>\n",
       "      <td>-0.00003</td>\n",
       "      <td>0.00000</td>\n",
       "      <td>-0.00001</td>\n",
       "      <td>-0.00003</td>\n",
       "      <td>-0.00002</td>\n",
       "      <td>0.0</td>\n",
       "    </tr>\n",
       "    <tr>\n",
       "      <th>1</th>\n",
       "      <td>-0.00003</td>\n",
       "      <td>-0.00001</td>\n",
       "      <td>0.00004</td>\n",
       "      <td>-0.00003</td>\n",
       "      <td>0.00000</td>\n",
       "      <td>-0.00001</td>\n",
       "      <td>-0.00003</td>\n",
       "      <td>-0.00002</td>\n",
       "      <td>0.0</td>\n",
       "    </tr>\n",
       "    <tr>\n",
       "      <th>2</th>\n",
       "      <td>-0.00002</td>\n",
       "      <td>-0.00003</td>\n",
       "      <td>-0.00021</td>\n",
       "      <td>-0.00005</td>\n",
       "      <td>-0.00001</td>\n",
       "      <td>0.00000</td>\n",
       "      <td>-0.00002</td>\n",
       "      <td>0.00001</td>\n",
       "      <td>0.0</td>\n",
       "    </tr>\n",
       "    <tr>\n",
       "      <th>3</th>\n",
       "      <td>-0.00002</td>\n",
       "      <td>-0.00003</td>\n",
       "      <td>-0.00021</td>\n",
       "      <td>-0.00005</td>\n",
       "      <td>-0.00001</td>\n",
       "      <td>0.00000</td>\n",
       "      <td>-0.00002</td>\n",
       "      <td>0.00001</td>\n",
       "      <td>0.0</td>\n",
       "    </tr>\n",
       "    <tr>\n",
       "      <th>4</th>\n",
       "      <td>-0.00002</td>\n",
       "      <td>-0.00003</td>\n",
       "      <td>-0.00021</td>\n",
       "      <td>-0.00005</td>\n",
       "      <td>-0.00001</td>\n",
       "      <td>0.00000</td>\n",
       "      <td>-0.00002</td>\n",
       "      <td>0.00001</td>\n",
       "      <td>0.0</td>\n",
       "    </tr>\n",
       "  </tbody>\n",
       "</table>\n",
       "</div>"
      ],
      "text/plain": [
       "   channel1  channel2  channel3  channel4  channel5  channel6  channel7  \\\n",
       "0  -0.00003  -0.00001   0.00004  -0.00003   0.00000  -0.00001  -0.00003   \n",
       "1  -0.00003  -0.00001   0.00004  -0.00003   0.00000  -0.00001  -0.00003   \n",
       "2  -0.00002  -0.00003  -0.00021  -0.00005  -0.00001   0.00000  -0.00002   \n",
       "3  -0.00002  -0.00003  -0.00021  -0.00005  -0.00001   0.00000  -0.00002   \n",
       "4  -0.00002  -0.00003  -0.00021  -0.00005  -0.00001   0.00000  -0.00002   \n",
       "\n",
       "   channel8  class  \n",
       "0  -0.00002    0.0  \n",
       "1  -0.00002    0.0  \n",
       "2   0.00001    0.0  \n",
       "3   0.00001    0.0  \n",
       "4   0.00001    0.0  "
      ]
     },
     "execution_count": 16,
     "metadata": {},
     "output_type": "execute_result"
    }
   ],
   "source": [
    "df.head()"
   ]
  },
  {
   "cell_type": "markdown",
   "id": "703bfd29",
   "metadata": {},
   "source": [
    "Also we can change the class labels to integer values."
   ]
  },
  {
   "cell_type": "code",
   "execution_count": 17,
   "id": "72778645",
   "metadata": {},
   "outputs": [],
   "source": [
    "df = df.astype({\"class\": int})"
   ]
  },
  {
   "cell_type": "code",
   "execution_count": 18,
   "id": "d8f512fe",
   "metadata": {},
   "outputs": [
    {
     "data": {
      "text/html": [
       "<div>\n",
       "<style scoped>\n",
       "    .dataframe tbody tr th:only-of-type {\n",
       "        vertical-align: middle;\n",
       "    }\n",
       "\n",
       "    .dataframe tbody tr th {\n",
       "        vertical-align: top;\n",
       "    }\n",
       "\n",
       "    .dataframe thead th {\n",
       "        text-align: right;\n",
       "    }\n",
       "</style>\n",
       "<table border=\"1\" class=\"dataframe\">\n",
       "  <thead>\n",
       "    <tr style=\"text-align: right;\">\n",
       "      <th></th>\n",
       "      <th>channel1</th>\n",
       "      <th>channel2</th>\n",
       "      <th>channel3</th>\n",
       "      <th>channel4</th>\n",
       "      <th>channel5</th>\n",
       "      <th>channel6</th>\n",
       "      <th>channel7</th>\n",
       "      <th>channel8</th>\n",
       "      <th>class</th>\n",
       "    </tr>\n",
       "  </thead>\n",
       "  <tbody>\n",
       "    <tr>\n",
       "      <th>0</th>\n",
       "      <td>-0.00003</td>\n",
       "      <td>-0.00001</td>\n",
       "      <td>0.00004</td>\n",
       "      <td>-0.00003</td>\n",
       "      <td>0.00000</td>\n",
       "      <td>-0.00001</td>\n",
       "      <td>-0.00003</td>\n",
       "      <td>-0.00002</td>\n",
       "      <td>0</td>\n",
       "    </tr>\n",
       "    <tr>\n",
       "      <th>1</th>\n",
       "      <td>-0.00003</td>\n",
       "      <td>-0.00001</td>\n",
       "      <td>0.00004</td>\n",
       "      <td>-0.00003</td>\n",
       "      <td>0.00000</td>\n",
       "      <td>-0.00001</td>\n",
       "      <td>-0.00003</td>\n",
       "      <td>-0.00002</td>\n",
       "      <td>0</td>\n",
       "    </tr>\n",
       "    <tr>\n",
       "      <th>2</th>\n",
       "      <td>-0.00002</td>\n",
       "      <td>-0.00003</td>\n",
       "      <td>-0.00021</td>\n",
       "      <td>-0.00005</td>\n",
       "      <td>-0.00001</td>\n",
       "      <td>0.00000</td>\n",
       "      <td>-0.00002</td>\n",
       "      <td>0.00001</td>\n",
       "      <td>0</td>\n",
       "    </tr>\n",
       "    <tr>\n",
       "      <th>3</th>\n",
       "      <td>-0.00002</td>\n",
       "      <td>-0.00003</td>\n",
       "      <td>-0.00021</td>\n",
       "      <td>-0.00005</td>\n",
       "      <td>-0.00001</td>\n",
       "      <td>0.00000</td>\n",
       "      <td>-0.00002</td>\n",
       "      <td>0.00001</td>\n",
       "      <td>0</td>\n",
       "    </tr>\n",
       "    <tr>\n",
       "      <th>4</th>\n",
       "      <td>-0.00002</td>\n",
       "      <td>-0.00003</td>\n",
       "      <td>-0.00021</td>\n",
       "      <td>-0.00005</td>\n",
       "      <td>-0.00001</td>\n",
       "      <td>0.00000</td>\n",
       "      <td>-0.00002</td>\n",
       "      <td>0.00001</td>\n",
       "      <td>0</td>\n",
       "    </tr>\n",
       "  </tbody>\n",
       "</table>\n",
       "</div>"
      ],
      "text/plain": [
       "   channel1  channel2  channel3  channel4  channel5  channel6  channel7  \\\n",
       "0  -0.00003  -0.00001   0.00004  -0.00003   0.00000  -0.00001  -0.00003   \n",
       "1  -0.00003  -0.00001   0.00004  -0.00003   0.00000  -0.00001  -0.00003   \n",
       "2  -0.00002  -0.00003  -0.00021  -0.00005  -0.00001   0.00000  -0.00002   \n",
       "3  -0.00002  -0.00003  -0.00021  -0.00005  -0.00001   0.00000  -0.00002   \n",
       "4  -0.00002  -0.00003  -0.00021  -0.00005  -0.00001   0.00000  -0.00002   \n",
       "\n",
       "   channel8  class  \n",
       "0  -0.00002      0  \n",
       "1  -0.00002      0  \n",
       "2   0.00001      0  \n",
       "3   0.00001      0  \n",
       "4   0.00001      0  "
      ]
     },
     "execution_count": 18,
     "metadata": {},
     "output_type": "execute_result"
    }
   ],
   "source": [
    "df.head()"
   ]
  },
  {
   "cell_type": "code",
   "execution_count": 29,
   "id": "97a53ecf",
   "metadata": {},
   "outputs": [
    {
     "data": {
      "text/plain": [
       "array([0, 1, 2, 3, 4, 5, 6])"
      ]
     },
     "execution_count": 29,
     "metadata": {},
     "output_type": "execute_result"
    }
   ],
   "source": [
    "df['class'].unique()"
   ]
  },
  {
   "cell_type": "markdown",
   "id": "53f8ff31",
   "metadata": {},
   "source": [
    "# KNN Classifier"
   ]
  },
  {
   "cell_type": "markdown",
   "id": "e435cfa5",
   "metadata": {},
   "source": [
    "First, let's import the required libraries."
   ]
  },
  {
   "cell_type": "code",
   "execution_count": 19,
   "id": "fface3b8",
   "metadata": {},
   "outputs": [],
   "source": [
    "from sklearn.model_selection import train_test_split\n",
    "from sklearn.neighbors import KNeighborsClassifier\n",
    "from sklearn.metrics import accuracy_score, f1_score, precision_score, recall_score, classification_report, confusion_matrix"
   ]
  },
  {
   "cell_type": "markdown",
   "id": "fcf6588e",
   "metadata": {},
   "source": [
    "Then, we will divide the data into features and class variables."
   ]
  },
  {
   "cell_type": "code",
   "execution_count": 20,
   "id": "baa89269",
   "metadata": {},
   "outputs": [],
   "source": [
    "features=df.drop(columns=[\"class\"])\n",
    "labels=df[\"class\"]"
   ]
  },
  {
   "cell_type": "markdown",
   "id": "2cab326c",
   "metadata": {},
   "source": [
    "Let's define train and test data and try to find optimum neighbors and distance measure."
   ]
  },
  {
   "cell_type": "code",
   "execution_count": 22,
   "id": "dbfbb9b1",
   "metadata": {},
   "outputs": [],
   "source": [
    "X_train, X_test,y_train,y_test= train_test_split(features,labels,test_size=0.30, random_state=1)"
   ]
  },
  {
   "cell_type": "markdown",
   "id": "72a0474c",
   "metadata": {},
   "source": [
    "First, let's start with manhattan."
   ]
  },
  {
   "cell_type": "markdown",
   "id": "5ba58a95",
   "metadata": {},
   "source": [
    "For simplicity, I will start with Minkowski distance with 10 neighbors."
   ]
  },
  {
   "cell_type": "code",
   "execution_count": 27,
   "id": "508e0848",
   "metadata": {},
   "outputs": [
    {
     "name": "stdout",
     "output_type": "stream",
     "text": [
      "Accuracy 0.9773172756426443\n",
      "F1 Score 0.9670234402896022\n",
      "Precision 0.9687157511314377\n",
      "Recall Score 0.9653499986935624\n",
      "Confusion Matrix [[806041   3521   1303   1607   1779   1658   1760]\n",
      " [  4478  70816      7     21     10     13     10]\n",
      " [  1820     14  70432    228    141    140    226]\n",
      " [  1793     22    167  72428     50    113    306]\n",
      " [  1868      8     85     39  73026    255    145]\n",
      " [  1883     39    130    121    368  72651     75]\n",
      " [  1795     11    186    293    168     89  73125]]\n"
     ]
    }
   ],
   "source": [
    "knn=KNeighborsClassifier(metric='minkowski',algorithm= 'auto',n_neighbors=10,p=2,weights='distance',leaf_size=5)\n",
    "knn.fit(X_train, y_train)\n",
    "y_pred = knn.predict(X_test)\n",
    "print(\"Accuracy\", accuracy_score(y_test,y_pred))\n",
    "print(\"F1 Score\", f1_score(y_test, y_pred, average=\"macro\"))\n",
    "print(\"Precision\",precision_score(y_test, y_pred, average=\"macro\"))\n",
    "print(\"Recall Score\", recall_score(y_test, y_pred, average=\"macro\"))\n",
    "print(\"Confusion Matrix\",confusion_matrix(y_test, y_pred))"
   ]
  },
  {
   "cell_type": "markdown",
   "id": "6db56e73",
   "metadata": {},
   "source": [
    "Now, we can visualize the confusion matrix of KNN Classifier"
   ]
  },
  {
   "cell_type": "code",
   "execution_count": 31,
   "id": "c7c565ce",
   "metadata": {},
   "outputs": [],
   "source": [
    "gestures = [\"Unmarked\", \"Hand At Rest\", \"Hand Clenched In a Fist\", \"Wrist Flexion\", \"Wrist Extension\",\"Radial Deviations\", \"Ulnar Deviations\"]"
   ]
  },
  {
   "cell_type": "code",
   "execution_count": 39,
   "id": "b41abe87",
   "metadata": {},
   "outputs": [
    {
     "data": {
      "text/plain": [
       "Text(0.5, 1.0, 'Confusion Matrix (K)')"
      ]
     },
     "execution_count": 39,
     "metadata": {},
     "output_type": "execute_result"
    },
    {
     "data": {
      "image/png": "[encoded data removed]",
      "text/plain": [
       "<Figure size 720x504 with 2 Axes>"
      ]
     },
     "metadata": {
      "needs_background": "light"
     },
     "output_type": "display_data"
    }
   ],
   "source": [
    "df_cm = pd.DataFrame(confusion_matrix(y_test, y_pred)/1000, index = [i for i in gestures],\n",
    "                  columns = [i for i in gestures])\n",
    "plt.figure(figsize = (10,7))\n",
    "ax = plt.axes()\n",
    "sns.heatmap(df_cm, ax = ax ,annot=True)\n",
    "plt.title('Confusion Matrix (K)', fontsize = 20)"
   ]
  },
  {
   "cell_type": "code",
   "execution_count": 46,
   "id": "a712dc4f",
   "metadata": {},
   "outputs": [
    {
     "data": {
      "text/html": [
       "<div>\n",
       "<style scoped>\n",
       "    .dataframe tbody tr th:only-of-type {\n",
       "        vertical-align: middle;\n",
       "    }\n",
       "\n",
       "    .dataframe tbody tr th {\n",
       "        vertical-align: top;\n",
       "    }\n",
       "\n",
       "    .dataframe thead th {\n",
       "        text-align: right;\n",
       "    }\n",
       "</style>\n",
       "<table border=\"1\" class=\"dataframe\">\n",
       "  <thead>\n",
       "    <tr style=\"text-align: right;\">\n",
       "      <th></th>\n",
       "      <th>precision</th>\n",
       "      <th>recall</th>\n",
       "      <th>f1-score</th>\n",
       "      <th>support</th>\n",
       "    </tr>\n",
       "  </thead>\n",
       "  <tbody>\n",
       "    <tr>\n",
       "      <th>Unmarked</th>\n",
       "      <td>0.983363</td>\n",
       "      <td>0.985779</td>\n",
       "      <td>0.984570</td>\n",
       "      <td>8.176690e+05</td>\n",
       "    </tr>\n",
       "    <tr>\n",
       "      <th>Hand At Rest</th>\n",
       "      <td>0.951432</td>\n",
       "      <td>0.939765</td>\n",
       "      <td>0.945562</td>\n",
       "      <td>7.535500e+04</td>\n",
       "    </tr>\n",
       "    <tr>\n",
       "      <th>Hand Clenched In a Fist</th>\n",
       "      <td>0.974028</td>\n",
       "      <td>0.964809</td>\n",
       "      <td>0.969397</td>\n",
       "      <td>7.300100e+04</td>\n",
       "    </tr>\n",
       "    <tr>\n",
       "      <th>Wrist Flexion</th>\n",
       "      <td>0.969105</td>\n",
       "      <td>0.967267</td>\n",
       "      <td>0.968185</td>\n",
       "      <td>7.487900e+04</td>\n",
       "    </tr>\n",
       "    <tr>\n",
       "      <th>Wrist Extension</th>\n",
       "      <td>0.966694</td>\n",
       "      <td>0.968181</td>\n",
       "      <td>0.967437</td>\n",
       "      <td>7.542600e+04</td>\n",
       "    </tr>\n",
       "    <tr>\n",
       "      <th>Radial Deviations</th>\n",
       "      <td>0.969727</td>\n",
       "      <td>0.965244</td>\n",
       "      <td>0.967480</td>\n",
       "      <td>7.526700e+04</td>\n",
       "    </tr>\n",
       "    <tr>\n",
       "      <th>Ulnar Deviations</th>\n",
       "      <td>0.966661</td>\n",
       "      <td>0.966405</td>\n",
       "      <td>0.966533</td>\n",
       "      <td>7.566700e+04</td>\n",
       "    </tr>\n",
       "    <tr>\n",
       "      <th>accuracy</th>\n",
       "      <td>0.977317</td>\n",
       "      <td>0.977317</td>\n",
       "      <td>0.977317</td>\n",
       "      <td>9.773173e-01</td>\n",
       "    </tr>\n",
       "    <tr>\n",
       "      <th>macro avg</th>\n",
       "      <td>0.968716</td>\n",
       "      <td>0.965350</td>\n",
       "      <td>0.967023</td>\n",
       "      <td>1.267264e+06</td>\n",
       "    </tr>\n",
       "    <tr>\n",
       "      <th>weighted avg</th>\n",
       "      <td>0.977285</td>\n",
       "      <td>0.977317</td>\n",
       "      <td>0.977296</td>\n",
       "      <td>1.267264e+06</td>\n",
       "    </tr>\n",
       "  </tbody>\n",
       "</table>\n",
       "</div>"
      ],
      "text/plain": [
       "                         precision    recall  f1-score       support\n",
       "Unmarked                  0.983363  0.985779  0.984570  8.176690e+05\n",
       "Hand At Rest              0.951432  0.939765  0.945562  7.535500e+04\n",
       "Hand Clenched In a Fist   0.974028  0.964809  0.969397  7.300100e+04\n",
       "Wrist Flexion             0.969105  0.967267  0.968185  7.487900e+04\n",
       "Wrist Extension           0.966694  0.968181  0.967437  7.542600e+04\n",
       "Radial Deviations         0.969727  0.965244  0.967480  7.526700e+04\n",
       "Ulnar Deviations          0.966661  0.966405  0.966533  7.566700e+04\n",
       "accuracy                  0.977317  0.977317  0.977317  9.773173e-01\n",
       "macro avg                 0.968716  0.965350  0.967023  1.267264e+06\n",
       "weighted avg              0.977285  0.977317  0.977296  1.267264e+06"
      ]
     },
     "execution_count": 46,
     "metadata": {},
     "output_type": "execute_result"
    }
   ],
   "source": [
    "target_names = gestures\n",
    "creport = classification_report(y_test, y_pred, target_names = target_names, output_dict=True)\n",
    "creport = pd.DataFrame(creport).transpose()\n",
    "creport"
   ]
  },
  {
   "cell_type": "code",
   "execution_count": null,
   "id": "21f4363e",
   "metadata": {},
   "outputs": [],
   "source": []
  }
 ],
 "metadata": {
  "kernelspec": {
   "display_name": "Python 3",
   "language": "python",
   "name": "python3"
  }
 },
 "nbformat": 4,
 "nbformat_minor": 5
}
